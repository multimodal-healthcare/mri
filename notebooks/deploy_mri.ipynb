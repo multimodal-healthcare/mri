{
 "cells": [
  {
   "cell_type": "code",
   "execution_count": 3,
   "metadata": {},
   "outputs": [
    {
     "name": "stderr",
     "output_type": "stream",
     "text": [
      "INFO:numexpr.utils:Note: NumExpr detected 12 cores but \"NUMEXPR_MAX_THREADS\" not set, so enforcing safe limit of 8.\n",
      "INFO:numexpr.utils:NumExpr defaulting to 8 threads.\n",
      "INFO:torch.distributed.nn.jit.instantiator:Created a temporary directory at /tmp/tmptcqbmco1\n",
      "INFO:torch.distributed.nn.jit.instantiator:Writing /tmp/tmptcqbmco1/_remote_module_non_scriptable.py\n"
     ]
    },
    {
     "name": "stdout",
     "output_type": "stream",
     "text": [
      "zenml==0.20.5\n",
      "gradio==3.6\n",
      "wandb==0.13.4\n"
     ]
    }
   ],
   "source": [
    "import zenml\n",
    "from zenml.steps import step\n",
    "import gradio as gr\n",
    "from pathlib import Path\n",
    "import wandb\n",
    "\n",
    "import torch\n",
    "import torch.nn as nn\n",
    "import torch.nn.functional as F\n",
    "import pytorch_lightning as pl\n",
    "from torchvision.models import resnet18\n",
    "from torchvision import transforms\n",
    "from torchvision.io import read_image\n",
    "from torch.utils.data import Dataset, DataLoader\n",
    "\n",
    "import pandas as pd\n",
    "import ast\n",
    "\n",
    "from typing import Union\n",
    "\n",
    "print(f'zenml=={zenml.__version__}')\n",
    "print(f'gradio=={gr.__version__}')\n",
    "print(f'wandb=={wandb.__version__}')"
   ]
  },
  {
   "cell_type": "code",
   "execution_count": 4,
   "metadata": {},
   "outputs": [],
   "source": [
    "PROJECT_PATH = Path.cwd().parent\n",
    "WEIGHT_DIR = PROJECT_PATH / 'weights'\n",
    "CHECKPOINT_PATH = WEIGHT_DIR / 'epoch=1-step=320.ckpt'\n",
    "STAGED_MODEL_FILENAME = 'staged_mri.pt'\n",
    "LOG_DIR = PROJECT_PATH / 'logs'\n",
    "STAGED_MODEL_TYPE = 'deployment-demo'\n",
    "STAGE_MODEL_NAME = 'staged_mri_demo'\n",
    "MRI_DATA_DIR = PROJECT_PATH/'data/processed/mri/test'\n",
    "CSV_PATH = PROJECT_PATH/'data/processed/csv/test_mri_patients.csv'\n"
   ]
  },
  {
   "cell_type": "code",
   "execution_count": 5,
   "metadata": {},
   "outputs": [],
   "source": [
    "LABELS = ['heart_failure', 'coronary_heart', 'myocardial_infarction', 'stroke', 'cardiac_arrest']"
   ]
  },
  {
   "cell_type": "markdown",
   "metadata": {},
   "source": [
    "The MRI model code (copied from `../../mri/src/train.py`)"
   ]
  },
  {
   "cell_type": "code",
   "execution_count": 6,
   "metadata": {},
   "outputs": [],
   "source": [
    "class MRIModel(pl.LightningModule):\n",
    "\n",
    "    def __init__(self, lr=0.001):\n",
    "        super().__init__()\n",
    "        self.lr = lr\n",
    "        self.resnet = resnet18()\n",
    "        self.resnet.conv1 = nn.Conv2d(1, 64, kernel_size=(7, 7),  # change input channel to be 1 instead of 3 \n",
    "                                      stride=(2, 2), padding=(3, 3), bias=False)\n",
    "        # add a linear layer at the end for transfer learning\n",
    "        self.linear = nn.Linear(in_features=self.resnet.fc.out_features,\n",
    "                                out_features=5)\n",
    "        self.save_hyperparameters()  # log hyperparameters\n",
    "\n",
    "    # optionally, define a forward method\n",
    "    def forward(self, xs):\n",
    "        y_hats = self.resnet(xs)\n",
    "        y_hats = self.linear(y_hats)\n",
    "        return y_hats  # we like to just call the model's forward method\n",
    "    \n",
    "    def training_step(self, batch, batch_idx):\n",
    "        xs, ys = batch\n",
    "        y_hats = self.forward(xs)\n",
    "        loss = F.binary_cross_entropy_with_logits(y_hats, ys)\n",
    "        self.log(\"train_loss\", loss, prog_bar=True, on_epoch=True, on_step=True)\n",
    "        return loss\n",
    "\n",
    "    def validation_step(self, batch, batch_idx):\n",
    "        xs, ys = batch\n",
    "        y_hats = self.forward(xs)\n",
    "        loss = F.binary_cross_entropy_with_logits(y_hats, ys)\n",
    "        self.log(\"val_loss\", loss, prog_bar=True, on_epoch=True, on_step=True)\n",
    "    \n",
    "    # def test_step(self, xs, batch_idx):\n",
    "    #     y_hats = self.resnet(xs)\n",
    "    #     y_hats = self.linear(y_hats)\n",
    "    #     return y_hats\n",
    "\n",
    "    def configure_optimizers(self):\n",
    "        optimizer = torch.optim.Adam(self.parameters(), lr=self.lr)\n",
    "        return optimizer"
   ]
  },
  {
   "cell_type": "markdown",
   "metadata": {},
   "source": [
    "Load the trained model from checkpoint ((copied from `../../mri/weights/epoch=*.ckpt`))"
   ]
  },
  {
   "cell_type": "code",
   "execution_count": 7,
   "metadata": {},
   "outputs": [],
   "source": [
    "model = MRIModel.load_from_checkpoint(CHECKPOINT_PATH)"
   ]
  },
  {
   "cell_type": "markdown",
   "metadata": {},
   "source": [
    "Save the model to torchscript in the staging directory"
   ]
  },
  {
   "cell_type": "code",
   "execution_count": 20,
   "metadata": {},
   "outputs": [],
   "source": [
    "def save_model_to_torchscript(model, directory):\n",
    "    scripted_model = model.to_torchscript(method=\"script\", file_path=None)\n",
    "    path = Path(directory) / STAGED_MODEL_FILENAME\n",
    "    torch.jit.save(scripted_model, path)\n",
    "\n",
    "save_model_to_torchscript(model, WEIGHT_DIR)"
   ]
  },
  {
   "cell_type": "markdown",
   "metadata": {},
   "source": [
    "Upload the model to `weights & biases`"
   ]
  },
  {
   "cell_type": "code",
   "execution_count": 21,
   "metadata": {},
   "outputs": [],
   "source": [
    "def upload_staged_model(staged_at, from_directory):\n",
    "    staged_at.add_file(Path(from_directory) / STAGED_MODEL_FILENAME)\n",
    "    wandb.log_artifact(staged_at)"
   ]
  },
  {
   "cell_type": "code",
   "execution_count": 22,
   "metadata": {},
   "outputs": [
    {
     "data": {
      "text/html": [
       "Tracking run with wandb version 0.13.4"
      ],
      "text/plain": [
       "<IPython.core.display.HTML object>"
      ]
     },
     "metadata": {},
     "output_type": "display_data"
    },
    {
     "data": {
      "text/html": [
       "Run data is saved locally in <code>/home/dk/Desktop/projects/multimodal-healthcare/mri/logs/wandb/run-20221029_153145-3a4k7ahc</code>"
      ],
      "text/plain": [
       "<IPython.core.display.HTML object>"
      ]
     },
     "metadata": {},
     "output_type": "display_data"
    },
    {
     "data": {
      "text/html": [
       "Syncing run <strong><a href=\"https://wandb.ai/multi-modal-fsdl2022/deployment/runs/3a4k7ahc\" target=\"_blank\">noble-flower-4</a></strong> to <a href=\"https://wandb.ai/multi-modal-fsdl2022/deployment\" target=\"_blank\">Weights & Biases</a> (<a href=\"https://wandb.me/run\" target=\"_blank\">docs</a>)<br/>"
      ],
      "text/plain": [
       "<IPython.core.display.HTML object>"
      ]
     },
     "metadata": {},
     "output_type": "display_data"
    },
    {
     "data": {
      "text/html": [
       "Waiting for W&B process to finish... <strong style=\"color:green\">(success).</strong>"
      ],
      "text/plain": [
       "<IPython.core.display.HTML object>"
      ]
     },
     "metadata": {},
     "output_type": "display_data"
    },
    {
     "data": {
      "text/html": [
       "Synced <strong style=\"color:#cdcd00\">noble-flower-4</strong>: <a href=\"https://wandb.ai/multi-modal-fsdl2022/deployment/runs/3a4k7ahc\" target=\"_blank\">https://wandb.ai/multi-modal-fsdl2022/deployment/runs/3a4k7ahc</a><br/>Synced 5 W&B file(s), 0 media file(s), 1 artifact file(s) and 0 other file(s)"
      ],
      "text/plain": [
       "<IPython.core.display.HTML object>"
      ]
     },
     "metadata": {},
     "output_type": "display_data"
    },
    {
     "data": {
      "text/html": [
       "Find logs at: <code>/home/dk/Desktop/projects/multimodal-healthcare/mri/logs/wandb/run-20221029_153145-3a4k7ahc/logs</code>"
      ],
      "text/plain": [
       "<IPython.core.display.HTML object>"
      ]
     },
     "metadata": {},
     "output_type": "display_data"
    }
   ],
   "source": [
    "# with wandb.init(\n",
    "#     job_type='stage', entity=\"multi-modal-fsdl2022\", project='deployment', dir=LOG_DIR, \n",
    "# ):\n",
    "#     staged_at = wandb.Artifact(STAGE_MODEL_NAME, type=STAGED_MODEL_TYPE)\n",
    "#     upload_staged_model(staged_at, from_directory=WEIGHT_DIR)"
   ]
  },
  {
   "cell_type": "markdown",
   "metadata": {},
   "source": [
    "Running our more portable model via a CLI (following `lab7`)"
   ]
  },
  {
   "cell_type": "code",
   "execution_count": 8,
   "metadata": {},
   "outputs": [],
   "source": [
    "class TestMRIDataset(Dataset):\n",
    "\n",
    "    def __init__(self, mri_path: Path, csv_path: Path) -> None:\n",
    "        self.data_dir = mri_path\n",
    "        self.df = pd.read_csv(csv_path)\n",
    "        self.mri_png_paths = list(self.data_dir.glob('*.png'))  # list of mri slices as png images\n",
    "        self.img_size = 128\n",
    "\n",
    "    def find_mri_png_paths(self, patient_id: str) -> list[Path]:\n",
    "        \"\"\"\n",
    "        For each patient, find the corresponding paths to the MRI .png images\n",
    "        and return them in a list\n",
    "        \"\"\"\n",
    "        res = []\n",
    "        for path in self.mri_png_paths:\n",
    "            if patient_id in path.name:\n",
    "                res.append(path)\n",
    "        return res\n",
    "\n",
    "    def __getitem__(self, patient_id):\n",
    "        \"\"\"\n",
    "        Return all torch Tensors of MRI slices of a patient and his/her condition labels\n",
    "        \"\"\"\n",
    "        png_paths = self.find_mri_png_paths(patient_id)\n",
    "        data = []\n",
    "        for path in png_paths:\n",
    "            img = read_image(str(path))\n",
    "            img = img.type(torch.FloatTensor) \n",
    "            img = transforms.Resize((self.img_size, self.img_size))(img)\n",
    "            data.append(img)\n",
    "        data = torch.stack(data)\n",
    "\n",
    "        label = self.df[self.df['patient']==patient_id]['label'].values[0]\n",
    "        label = ast.literal_eval(label)\n",
    "        label = torch.Tensor(label)\n",
    "\n",
    "        return data, label\n",
    "\n",
    "    def __len__(self):\n",
    "        return len(self.mri_png_paths)\n",
    "\n",
    "test_dataset = TestMRIDataset(MRI_DATA_DIR, CSV_PATH)"
   ]
  },
  {
   "cell_type": "code",
   "execution_count": 16,
   "metadata": {},
   "outputs": [
    {
     "name": "stdout",
     "output_type": "stream",
     "text": [
      "The patient is having risk of ['stroke']\n"
     ]
    }
   ],
   "source": [
    "model = torch.jit.load(WEIGHT_DIR/STAGED_MODEL_FILENAME)\n",
    "\n",
    "def print_predictions(labels: list, predictions: list):\n",
    "    result = []\n",
    "    for i, k in enumerate(predictions):\n",
    "        if k == 1:\n",
    "            result.append(labels[i])\n",
    "    print(f'The patient is having risk of {result}')\n",
    "\n",
    "def predict(model: torch.nn.Module, patient_id: str):\n",
    "    mri_data, _ = test_dataset[patient_id]\n",
    "    y_hats = model(mri_data)\n",
    "    y_hats = torch.sigmoid(y_hats)\n",
    "    mean_y_hats = torch.mean(y_hats, dim=0)\n",
    "    pred = [1 if i > 0.5 else 0 for i in mean_y_hats]\n",
    "    print_predictions(LABELS, pred)\n",
    "\n",
    "predict(model, '6dc8bd6b-e2a8-92bf-613d-8b477eb87d7c')"
   ]
  },
  {
   "cell_type": "markdown",
   "metadata": {},
   "source": []
  },
  {
   "cell_type": "code",
   "execution_count": null,
   "metadata": {},
   "outputs": [],
   "source": [
    "\n",
    "\n",
    "\n",
    "\n"
   ]
  }
 ],
 "metadata": {
  "kernelspec": {
   "display_name": "Python 3.9.13 ('fsdl')",
   "language": "python",
   "name": "python3"
  },
  "language_info": {
   "codemirror_mode": {
    "name": "ipython",
    "version": 3
   },
   "file_extension": ".py",
   "mimetype": "text/x-python",
   "name": "python",
   "nbconvert_exporter": "python",
   "pygments_lexer": "ipython3",
   "version": "3.9.13"
  },
  "orig_nbformat": 4,
  "vscode": {
   "interpreter": {
    "hash": "4cff6e4e34a694cc1f51d6b830ae4497c3d10472f91cc35501aa54f26027b157"
   }
  }
 },
 "nbformat": 4,
 "nbformat_minor": 2
}
